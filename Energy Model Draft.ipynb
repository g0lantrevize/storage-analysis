{
 "cells": [
  {
   "cell_type": "code",
   "execution_count": 276,
   "metadata": {
    "collapsed": true
   },
   "outputs": [],
   "source": [
    "import pandas as pd\n",
    "import numpy as np"
   ]
  },
  {
   "cell_type": "code",
   "execution_count": 289,
   "metadata": {
    "collapsed": true
   },
   "outputs": [],
   "source": [
    "#Import Datasets\n",
    "\n",
    "#PV Output, change to PVWatts automatic based on inputs\n",
    "PVOutput = pd.read_excel('/Users/ajames2/Desktop/Python/PVOutput.xlsx')\n",
    "\n",
    "#Customer load\n",
    "CustomerLoad = pd.read_excel('https://openei.org/datasets/dataset/399852d9-91a3-4dd7-86ba-73dd5388c994/'\n",
    "                              'resource/c0608a74-1ef8-4583-a4cd-33f0c78e8478/download/lbnlb74electricity.xlsx')\n",
    "    #Change to be an excel file: CustomerLoad = pd.read_excel('/Users/ajames2/Desktop/Python/CustomerLoad.xlsx')"
   ]
  },
  {
   "cell_type": "code",
   "execution_count": 298,
   "metadata": {},
   "outputs": [],
   "source": [
    "#Input Data\n",
    "\n",
    "#Storage\n",
    "    #Fixed\n",
    "storage_size_kW = float(250)\n",
    "storage_capex = float(250000)\n",
    "\n",
    "#Diesel Generator\n",
    "    #Fixed\n",
    "diesel_size_kW = float(250)\n",
    "diesel_capex = float(100000)\n",
    "diesel_fuel_cost =float(3.5)\n",
    "diesel_price = float(.40) #temporary\n",
    "\n",
    "    #Variable\n",
    "    \n",
    "#Electricity Price - TOU\n",
    "    #00:01 - 11:00\n",
    "    #11:01 - 15:00\n",
    "    #15:01 - 24:00\n",
    "    \n",
    "#Electricity Price - Fixed\n",
    "\n",
    "electricity_price = float(0.13)"
   ]
  },
  {
   "cell_type": "code",
   "execution_count": 291,
   "metadata": {
    "scrolled": false
   },
   "outputs": [],
   "source": [
    "#Clean datasets and convert to hourly\n",
    "\n",
    "#Rename kWh columns\n",
    "CustomerLoad.rename(columns={'Building 74 - kWh Total Electricity (kWh)':'Customer_Load'}, inplace=True)\n",
    "\n",
    "#Convert to hourly\n",
    "CustomerLoad['timestamp_hour'] = CustomerLoad['Timestamp'].apply(\n",
    "    lambda x: pd.Timestamp(year=x.year,month=x.month,day=x.day,hour=x.hour))\n",
    "CustomerLoad.pivot_table(index=['timestamp_hour'], \n",
    "                         values='Customer_Load', aggfunc='sum').reset_index()\n",
    "del CustomerLoad['Timestamp']"
   ]
  },
  {
   "cell_type": "code",
   "execution_count": 292,
   "metadata": {},
   "outputs": [],
   "source": [
    "#Add electricity price, solar production, net customer load\n",
    "\n",
    "EnergyMaster = CustomerLoad\n",
    "EnergyMaster['electricity_price'] = electricity_price\n",
    "\n",
    "#Add pv production\n",
    "EnergyMaster['PV_Output'] = PVOutput\n",
    "\n",
    "#post load pv production\n",
    "EnergyMaster['PV_Output_Post_Load'] = (EnergyMaster['PV_Output']-EnergyMaster['Customer_Load']).clip_lower(0)\n",
    "\n",
    "#post PV load\n",
    "EnergyMaster['Customer_Load_Post_PV'] = (EnergyMaster['Customer_Load']-EnergyMaster['PV_Output']).clip_lower(0)\n",
    "\n",
    "#storage SOC\n",
    "EnergyMaster['Storage_SOC'] = EnergyMaster['PV_Output_Post_Load'].cumsum().clip(0,250)\n",
    "\n",
    "#new customer load post storage\n",
    "EnergyMaster['Storage_SOC_Post_Load'] = (EnergyMaster['Storage_SOC']-EnergyMaster['Customer_Load']).clip_lower(0)"
   ]
  },
  {
   "cell_type": "code",
   "execution_count": 297,
   "metadata": {},
   "outputs": [],
   "source": [
    "#create randomized grid outages\n",
    "\n",
    "#variables\n",
    "days_per_week_grid_down = 3\n",
    "hoursdown = 4\n",
    "percent_downtime = days_per_week_grid_down / (7.0*24/hoursdown)\n",
    "\n",
    "#calculations\n",
    "EnergyMaster['grid_down_probability'] = EnergyMaster['Customer_Load'].apply(lambda x: np.random.random())\n",
    "def grid_is_down(rand_num):\n",
    "    if rand_num < percent_downtime:\n",
    "        return 1\n",
    "    else:\n",
    "        return 0\n",
    "EnergyMaster['grid_down'] = EnergyMaster['grid_down_probability'].apply(grid_is_down)"
   ]
  },
  {
   "cell_type": "code",
   "execution_count": 304,
   "metadata": {},
   "outputs": [
    {
     "ename": "SyntaxError",
     "evalue": "invalid syntax (<ipython-input-304-cac83b1be2b2>, line 5)",
     "output_type": "error",
     "traceback": [
      "\u001b[1;36m  File \u001b[1;32m\"<ipython-input-304-cac83b1be2b2>\"\u001b[1;36m, line \u001b[1;32m5\u001b[0m\n\u001b[1;33m    if grid_down is 0 return (EnergyMaster['Customer_Load']*diesel_price)\u001b[0m\n\u001b[1;37m                           ^\u001b[0m\n\u001b[1;31mSyntaxError\u001b[0m\u001b[1;31m:\u001b[0m invalid syntax\n"
     ]
    }
   ],
   "source": [
    "#calculate costs in scenarios\n",
    "\n",
    "#diesel scenario "
   ]
  }
 ],
 "metadata": {
  "kernelspec": {
   "display_name": "Python 3",
   "language": "python",
   "name": "python3"
  },
  "language_info": {
   "codemirror_mode": {
    "name": "ipython",
    "version": 3
   },
   "file_extension": ".py",
   "mimetype": "text/x-python",
   "name": "python",
   "nbconvert_exporter": "python",
   "pygments_lexer": "ipython3",
   "version": "3.6.1"
  }
 },
 "nbformat": 4,
 "nbformat_minor": 2
}
