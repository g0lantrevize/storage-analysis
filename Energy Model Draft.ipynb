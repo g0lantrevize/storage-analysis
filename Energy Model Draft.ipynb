{
 "cells": [
  {
   "cell_type": "code",
   "execution_count": 3,
   "metadata": {
    "collapsed": true
   },
   "outputs": [],
   "source": [
    "import pandas as pd\n",
    "import numpy as np"
   ]
  },
  {
   "cell_type": "markdown",
   "metadata": {},
   "source": [
    "# Import Datasets: PV Output and Customer Load\n",
    "\n",
    "Note: Need to find data that better suits this scenario\n",
    "Note2: Need to automate the PV data pull here"
   ]
  },
  {
   "cell_type": "code",
   "execution_count": 5,
   "metadata": {
    "collapsed": true
   },
   "outputs": [],
   "source": [
    "#Import Datasets\n",
    "\n",
    "#PV Output, change to PVWatts automatic based on inputs\n",
    "PVOutput = pd.read_excel('/Users/ajames2/Desktop/Python/PVOutput.xlsx')\n",
    "\n",
    "#Customer load\n",
    "CustomerLoad = pd.read_excel('https://openei.org/datasets/dataset/399852d9-91a3-4dd7-86ba-73dd5388c994/'\n",
    "                              'resource/c0608a74-1ef8-4583-a4cd-33f0c78e8478/download/lbnlb74electricity.xlsx')\n",
    "    #Change to be an excel file: CustomerLoad = pd.read_excel('/Users/ajames2/Desktop/Python/CustomerLoad.xlsx')"
   ]
  },
  {
   "cell_type": "markdown",
   "metadata": {},
   "source": [
    "# Scenario Inputs: Diesel, Storage, PV, and Electricity Rates\n",
    "\n",
    "Note: Need to get all this into Tkinter\n",
    "Note2: Need to add in dynamic approach for lifetime on diesel and storage based on throughput\n",
    "Note3: Need to add in roundtrip efficiency\n",
    "Note4: Add in solar costs and multi-year"
   ]
  },
  {
   "cell_type": "code",
   "execution_count": 19,
   "metadata": {},
   "outputs": [
    {
     "name": "stdout",
     "output_type": "stream",
     "text": [
      "\n"
     ]
    },
    {
     "data": {
      "text/plain": [
       "59630.6892207148"
      ]
     },
     "execution_count": 19,
     "metadata": {},
     "output_type": "execute_result"
    }
   ],
   "source": [
    "#Input Data\n",
    "\n",
    "#Storage\n",
    "storage_size_kW = float(250)\n",
    "storage_capex = float(250000)\n",
    "years_of_use = float(10)\n",
    "\n",
    "#Storage Financing\n",
    "tenor = 10\n",
    "interest_rate = 0.20\n",
    "\n",
    "#Storage Annual Payment\n",
    "storage_annual_payment = (storage_capex *(interest_rate * (1 + interest_rate) ** tenor) /\n",
    "                         ((1 + interest_rate) ** tenor - 1))\n",
    "\n",
    "#Diesel Generator\n",
    "diesel_size_kW = float(250)\n",
    "diesel_capex = float(100000)\n",
    "diesel_fuel_cost =float(3.5)\n",
    "diesel_price = float(.40)\n",
    "    \n",
    "#Electricity Price - TOU\n",
    "        #00:01 - 11:00\n",
    "        #11:01 - 15:00\n",
    "        #15:01 - 24:00\n",
    "    \n",
    "#Electricity Price - Fixed\n",
    "electricity_price = float(0.13)"
   ]
  },
  {
   "cell_type": "markdown",
   "metadata": {},
   "source": [
    "# Clean Datasets and Create New Dataframe"
   ]
  },
  {
   "cell_type": "code",
   "execution_count": 7,
   "metadata": {
    "collapsed": true,
    "scrolled": false
   },
   "outputs": [],
   "source": [
    "#Rename kWh columns\n",
    "CustomerLoad.rename(columns={'Building 74 - kWh Total Electricity (kWh)':'Customer_Load'}, inplace=True)\n",
    "\n",
    "#Convert to hourly\n",
    "CustomerLoad['timestamp_hour'] = CustomerLoad['Timestamp'].apply(\n",
    "    lambda x: pd.Timestamp(year=x.year,month=x.month,day=x.day,hour=x.hour))\n",
    "CustomerLoad.pivot_table(index=['timestamp_hour'], \n",
    "                         values='Customer_Load', aggfunc='sum').reset_index()\n",
    "del CustomerLoad['Timestamp']\n",
    "EnergyMaster = CustomerLoad"
   ]
  },
  {
   "cell_type": "markdown",
   "metadata": {},
   "source": [
    "# Create Required Columns for New Dataframe"
   ]
  },
  {
   "cell_type": "code",
   "execution_count": 8,
   "metadata": {
    "collapsed": true
   },
   "outputs": [],
   "source": [
    "#Add electricity price\n",
    "EnergyMaster['electricity_price'] = electricity_price\n",
    "\n",
    "#Add PV production\n",
    "EnergyMaster['PV_Output'] = PVOutput\n",
    "\n",
    "#Add post-load pv production\n",
    "EnergyMaster['PV_Output_Post_Load'] = (EnergyMaster['PV_Output']-EnergyMaster['Customer_Load']).clip_lower(0)\n",
    "\n",
    "#Add post PV load\n",
    "EnergyMaster['Customer_Load_Post_PV'] = (EnergyMaster['Customer_Load']-EnergyMaster['PV_Output']).clip_lower(0)\n",
    "\n",
    "#Add storage state of charge\n",
    "EnergyMaster['Storage_SOC'] = EnergyMaster['PV_Output_Post_Load'].cumsum().clip(0,storage_size_kW)\n",
    "\n",
    "#Add new customer load post storage\n",
    "EnergyMaster['Storage_SOC_Post_Load'] = (EnergyMaster['Storage_SOC']-EnergyMaster['Customer_Load']).clip_lower(0)"
   ]
  },
  {
   "cell_type": "markdown",
   "metadata": {},
   "source": [
    "# Create Randomized Grid Outages"
   ]
  },
  {
   "cell_type": "code",
   "execution_count": 9,
   "metadata": {
    "collapsed": true
   },
   "outputs": [],
   "source": [
    "#variables\n",
    "days_per_week_grid_down = 3\n",
    "hoursdown = 4\n",
    "percent_downtime = days_per_week_grid_down / (7.0*24/hoursdown)\n",
    "\n",
    "#calculations\n",
    "EnergyMaster['grid_down_probability'] = EnergyMaster['Customer_Load'].apply(lambda x: np.random.random())\n",
    "def grid_is_down(rand_num):\n",
    "    if rand_num < percent_downtime:\n",
    "        return 1\n",
    "    else:\n",
    "        return 0\n",
    "EnergyMaster['grid_down'] = EnergyMaster['grid_down_probability'].apply(grid_is_down)"
   ]
  },
  {
   "cell_type": "markdown",
   "metadata": {},
   "source": [
    "# Calculate Combined Price of Energy by Scenario\n",
    "\n",
    "Note: Storage-only scenario cost is the annual payment lease payment plus electricity price\n",
    "Note2: Storage and PV cost is the annual lease payment plus the cost of solar plus electricity price"
   ]
  },
  {
   "cell_type": "code",
   "execution_count": 10,
   "metadata": {},
   "outputs": [],
   "source": [
    "#diesel scenario\n",
    "\n",
    "EnergyMaster['cost_in_diesel'] = (diesel_price * EnergyMaster['grid_down'])\n",
    "EnergyMaster['diesel_scenario_price'] = EnergyMaster.loc[EnergyMaster['grid_down']<1,['electricity_price','cost_in_diesel']].sum(axis=1)\n",
    "EnergyMaster['diesel_scenario_price'].fillna(EnergyMaster['cost_in_diesel'],inplace=True)\n",
    "\n",
    "#storage scenario"
   ]
  },
  {
   "cell_type": "markdown",
   "metadata": {},
   "source": [
    "# Find Diesel Costs by Year\n",
    "\n",
    "Group the diesel scenario price by year based on timestamp"
   ]
  },
  {
   "cell_type": "code",
   "execution_count": 68,
   "metadata": {},
   "outputs": [
    {
     "ename": "AttributeError",
     "evalue": "Cannot access callable attribute 'groupby' of 'DataFrameGroupBy' objects, try using the 'apply' method",
     "output_type": "error",
     "traceback": [
      "\u001b[1;31m---------------------------------------------------------------------------\u001b[0m",
      "\u001b[1;31mAttributeError\u001b[0m                            Traceback (most recent call last)",
      "\u001b[1;32m<ipython-input-68-3cb6a38ad149>\u001b[0m in \u001b[0;36m<module>\u001b[1;34m()\u001b[0m\n\u001b[0;32m      2\u001b[0m \u001b[1;33m\u001b[0m\u001b[0m\n\u001b[0;32m      3\u001b[0m \u001b[1;31m#EnergyMaster = EnergyMaster.groupby([EnergyMaster['timestamp_hour'].dt.year,['diesel_scenario_price'].sum()\u001b[0m\u001b[1;33m\u001b[0m\u001b[1;33m\u001b[0m\u001b[0m\n\u001b[1;32m----> 4\u001b[1;33m \u001b[0mEnergyMaster\u001b[0m\u001b[1;33m[\u001b[0m\u001b[1;34m'year'\u001b[0m\u001b[1;33m]\u001b[0m \u001b[1;33m=\u001b[0m \u001b[0mEnergyMaster\u001b[0m\u001b[1;33m.\u001b[0m\u001b[0mgroupby\u001b[0m\u001b[1;33m(\u001b[0m\u001b[0mEnergyMaster\u001b[0m\u001b[1;33m[\u001b[0m\u001b[1;34m'timestamp_hour'\u001b[0m\u001b[1;33m]\u001b[0m\u001b[1;33m.\u001b[0m\u001b[0mmap\u001b[0m\u001b[1;33m(\u001b[0m\u001b[1;32mlambda\u001b[0m \u001b[0mx\u001b[0m\u001b[1;33m:\u001b[0m \u001b[0mx\u001b[0m\u001b[1;33m.\u001b[0m\u001b[0myear\u001b[0m\u001b[1;33m)\u001b[0m\u001b[1;33m)\u001b[0m\u001b[1;33m\u001b[0m\u001b[0m\n\u001b[0m",
      "\u001b[1;32mC:\\Users\\ajames2\\AppData\\Local\\Continuum\\Anaconda3\\lib\\site-packages\\pandas\\core\\groupby.py\u001b[0m in \u001b[0;36m__getattr__\u001b[1;34m(self, attr)\u001b[0m\n\u001b[0;32m    546\u001b[0m             \u001b[1;32mreturn\u001b[0m \u001b[0mself\u001b[0m\u001b[1;33m[\u001b[0m\u001b[0mattr\u001b[0m\u001b[1;33m]\u001b[0m\u001b[1;33m\u001b[0m\u001b[0m\n\u001b[0;32m    547\u001b[0m         \u001b[1;32mif\u001b[0m \u001b[0mhasattr\u001b[0m\u001b[1;33m(\u001b[0m\u001b[0mself\u001b[0m\u001b[1;33m.\u001b[0m\u001b[0mobj\u001b[0m\u001b[1;33m,\u001b[0m \u001b[0mattr\u001b[0m\u001b[1;33m)\u001b[0m\u001b[1;33m:\u001b[0m\u001b[1;33m\u001b[0m\u001b[0m\n\u001b[1;32m--> 548\u001b[1;33m             \u001b[1;32mreturn\u001b[0m \u001b[0mself\u001b[0m\u001b[1;33m.\u001b[0m\u001b[0m_make_wrapper\u001b[0m\u001b[1;33m(\u001b[0m\u001b[0mattr\u001b[0m\u001b[1;33m)\u001b[0m\u001b[1;33m\u001b[0m\u001b[0m\n\u001b[0m\u001b[0;32m    549\u001b[0m \u001b[1;33m\u001b[0m\u001b[0m\n\u001b[0;32m    550\u001b[0m         raise AttributeError(\"%r object has no attribute %r\" %\n",
      "\u001b[1;32mC:\\Users\\ajames2\\AppData\\Local\\Continuum\\Anaconda3\\lib\\site-packages\\pandas\\core\\groupby.py\u001b[0m in \u001b[0;36m_make_wrapper\u001b[1;34m(self, name)\u001b[0m\n\u001b[0;32m    560\u001b[0m                    \"using the 'apply' method\".format(kind, name,\n\u001b[0;32m    561\u001b[0m                                                      type(self).__name__))\n\u001b[1;32m--> 562\u001b[1;33m             \u001b[1;32mraise\u001b[0m \u001b[0mAttributeError\u001b[0m\u001b[1;33m(\u001b[0m\u001b[0mmsg\u001b[0m\u001b[1;33m)\u001b[0m\u001b[1;33m\u001b[0m\u001b[0m\n\u001b[0m\u001b[0;32m    563\u001b[0m \u001b[1;33m\u001b[0m\u001b[0m\n\u001b[0;32m    564\u001b[0m         \u001b[1;31m# need to setup the selection\u001b[0m\u001b[1;33m\u001b[0m\u001b[1;33m\u001b[0m\u001b[0m\n",
      "\u001b[1;31mAttributeError\u001b[0m: Cannot access callable attribute 'groupby' of 'DataFrameGroupBy' objects, try using the 'apply' method"
     ]
    }
   ],
   "source": [
    "#Annual diesel cost\n",
    "\n",
    "#attempt 1 - EnergyMaster = EnergyMaster.groupby([EnergyMaster['timestamp_hour'].dt.year,['diesel_scenario_price'].sum()\n",
    "#attempt 2 - EnergyMaster['year'] = EnergyMaster.groupby(EnergyMaster['timestamp_hour'].map(lambda x: x.year))"
   ]
  },
  {
   "cell_type": "code",
   "execution_count": null,
   "metadata": {
    "collapsed": true
   },
   "outputs": [],
   "source": []
  }
 ],
 "metadata": {
  "kernelspec": {
   "display_name": "Python 3",
   "language": "python",
   "name": "python3"
  },
  "language_info": {
   "codemirror_mode": {
    "name": "ipython",
    "version": 3
   },
   "file_extension": ".py",
   "mimetype": "text/x-python",
   "name": "python",
   "nbconvert_exporter": "python",
   "pygments_lexer": "ipython3",
   "version": "3.6.1"
  }
 },
 "nbformat": 4,
 "nbformat_minor": 2
}
