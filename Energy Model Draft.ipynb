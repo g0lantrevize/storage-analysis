{
 "cells": [
  {
   "cell_type": "code",
   "execution_count": 18,
   "metadata": {
    "collapsed": true
   },
   "outputs": [],
   "source": [
    "import pandas as pd\n",
    "import numpy as np"
   ]
  },
  {
   "cell_type": "markdown",
   "metadata": {},
   "source": [
    "# GUI - Under Construction\n",
    "\n",
    "This creates the dialogue box where the user enters the project information\n",
    "\n",
    "Needs to be able to import the customer load file from csv\n",
    "Inputs:\n",
    "Cost of solar (dollar per w), Cost of storage (dollar per kWh)"
   ]
  },
  {
   "cell_type": "code",
   "execution_count": 12,
   "metadata": {},
   "outputs": [],
   "source": [
    "import tkinter\n",
    "from tkinter import *\n",
    "fields = 'Storage Size kW','Storage Hours', 'Storage CapEx', 'Years of Use', 'Tenor', 'Interest Rate', 'PV Size kW', 'PV Cost per Watt','PV Irradiation kWh per kW','PV Years', 'Diesel Size kW', 'Diesel CapEx','Diesel Fuel Cost','Diesel Price','Diesel Years','Diesel Max Throughput','Electricity Price'\n",
    "\n",
    "def fetch(entries):\n",
    "    for entry in entries:\n",
    "        field = entry[0]\n",
    "        text=entry[1].get()\n",
    "        print('%s:\"%s\"'%(field,text))\n",
    "        \n",
    "def makeform(root,fields):\n",
    "    entries=[]\n",
    "    for field in fields:\n",
    "        row=Frame(root)\n",
    "        lab=Label(row,width=30,text=field,anchor='w')\n",
    "        ent=Entry(row)\n",
    "        row.pack(side=TOP,fill=X,padx=5,pady=5)\n",
    "        lab.pack(side=LEFT)\n",
    "        ent.pack(side=RIGHT,expand=YES,fill=X)\n",
    "        entries.append((field,ent))\n",
    "    return entries\n",
    "    \n",
    "if __name__ == '__main__':\n",
    "    root=Tk()\n",
    "    ents=makeform(root,fields)\n",
    "    root.bind('<Return>'),(lambda event,e=ents:fetch(e))\n",
    "    b1=Button(root,text='Show',command=(lambda e=ents:fetch(e)))\n",
    "    b1.pack(side=LEFT,padx=5,pady=5)\n",
    "    b2=Button(root,text='Quit',command=root.destroy)\n",
    "    b2.pack(side=LEFT,padx=5,pady=5)\n",
    "#    b3=Button(root,text='Submit',command=)\n",
    "    root.mainloop()"
   ]
  },
  {
   "cell_type": "markdown",
   "metadata": {},
   "source": [
    "# Import Datasets: PV Output and Customer Load\n",
    "\n",
    "Note: Need to find data that better suits this scenario\n",
    "Note2: Need to automate the PV data pull here\n",
    "Note3: Make customer load read from excel"
   ]
  },
  {
   "cell_type": "code",
   "execution_count": null,
   "metadata": {
    "collapsed": true
   },
   "outputs": [],
   "source": [
    "#PV Output\n",
    "PVOutput = pd.read_excel('/Users/ajames2/Desktop/Python/PVOutput.xlsx')\n",
    "\n",
    "#Customer Load\n",
    "CustomerLoad = pd.read_excel('/Users/ajames2/Desktop/Python/CustomerLoad.xlsx')"
   ]
  },
  {
   "cell_type": "markdown",
   "metadata": {},
   "source": [
    "# Scenario Inputs: Diesel, Storage, PV, and Electricity Rates\n",
    "\n",
    "Note: Need to get all this into Tkinter\n",
    "Note2: Need to add in dynamic approach for lifetime on diesel and storage based on throughput\n",
    "Note3: Need to add in roundtrip efficiency\n",
    "Note4: Add in solar costs and multi-year"
   ]
  },
  {
   "cell_type": "code",
   "execution_count": null,
   "metadata": {
    "collapsed": true
   },
   "outputs": [],
   "source": [
    "#Input Data\n",
    "\n",
    "#Storage\n",
    "storage_size_kW = float(250)\n",
    "storage_hours = float(4)\n",
    "storage_capex = float(250000)\n",
    "years_of_use = float(10)\n",
    "storage_max_throughput = float(2700*storage_size_kW*storage_hours)\n",
    "\n",
    "#Storage Financing\n",
    "tenor = 10\n",
    "interest_rate = 0.20\n",
    "\n",
    "#Storage Annual Payment\n",
    "storage_annual_payment = (storage_capex *(interest_rate * (1 + interest_rate) ** tenor) /\n",
    "                         ((1 + interest_rate) ** tenor - 1))\n",
    "\n",
    "#solar LCOE\n",
    "pv_size_kW = 150\n",
    "pv_cpw = 2.5 #pv cost per watt\n",
    "pv_capex = (pv_size_kW * pv_cpw * 1000)\n",
    "pv_irradiation = 1400\n",
    "pv_years = 20\n",
    "pv_total_production = pv_irradiation * pv_years * pv_size_kW\n",
    "\n",
    "#Solar LCOE\n",
    "solar_lcoe = pv_capex / pv_total_production\n",
    "\n",
    "#Diesel Generator\n",
    "diesel_size_kW = float(250)\n",
    "diesel_capex = float(100000)\n",
    "diesel_fuel_cost =float(3.5)\n",
    "diesel_price = float(.40)\n",
    "diesel_years = 10\n",
    "diesel_max_throughput = float(36000) #hours\n",
    "    \n",
    "#Electricity Price - TOU\n",
    "        #00:01 - 11:00\n",
    "        #11:01 - 15:00\n",
    "        #15:01 - 24:00\n",
    "    \n",
    "#Electricity Price - Fixed\n",
    "electricity_price = float(0.13)"
   ]
  },
  {
   "cell_type": "markdown",
   "metadata": {},
   "source": [
    "# Clean Datasets and Create New Dataframe"
   ]
  },
  {
   "cell_type": "code",
   "execution_count": null,
   "metadata": {
    "collapsed": true,
    "scrolled": false
   },
   "outputs": [],
   "source": [
    "#Rename kWh columns\n",
    "CustomerLoad.rename(columns={'Building 74 - kWh Total Electricity (kWh)':'Customer_Load'}, inplace=True)\n",
    "\n",
    "#Convert to hourly\n",
    "CustomerLoad['timestamp_hour'] = CustomerLoad['Timestamp'].apply(\n",
    "    lambda x: pd.Timestamp(year=x.year,month=x.month,day=x.day,hour=x.hour))\n",
    "CustomerLoad.pivot_table(index=['timestamp_hour'], \n",
    "                         values='Customer_Load', aggfunc='sum').reset_index()\n",
    "del CustomerLoad['Timestamp']\n",
    "EnergyMaster = CustomerLoad"
   ]
  },
  {
   "cell_type": "markdown",
   "metadata": {},
   "source": [
    "# Create Required Columns for New Dataframe"
   ]
  },
  {
   "cell_type": "code",
   "execution_count": null,
   "metadata": {
    "collapsed": true
   },
   "outputs": [],
   "source": [
    "#Add electricity price\n",
    "EnergyMaster['electricity_price'] = electricity_price\n",
    "\n",
    "#create column for pv production\n",
    "EnergyMaster['PV_Output'] = PVOutput\n",
    "\n",
    "#create column to show customers load after they have consumed PV\n",
    "EnergyMaster['PV_Output_Post_Load'] = (EnergyMaster['PV_Output']-EnergyMaster['Customer_Load']).clip_lower(0)\n",
    "\n",
    "#create column for amount of PV left after customer load\n",
    "EnergyMaster['Customer_Load_Post_PV'] = (EnergyMaster['Customer_Load']-EnergyMaster['PV_Output']).clip_lower(0)\n",
    "\n",
    "#create storage state of charge in three parts\n",
    "\n",
    "    #charge storage first from the remaining PV available\n",
    "EnergyMaster['starting_storage_SOC_kWh'] = EnergyMaster['PV_Output_Post_Load'].cumsum().clip(0,storage_size_kW * storage_hours)\n",
    "    \n",
    "    #identify the potential charge from the grid capped by the storage units size\n",
    "EnergyMaster['potential_grid_charge'] = ((storage_size_kW * storage_hours) - EnergyMaster['starting_storage_SOC_kWh']).cumsum().clip(0,storage_size_kW)\n",
    "    \n",
    "    #charge storage from the grid capped at the storage unit size\n",
    "EnergyMaster['finished_storage_SOC_kWh'] = (EnergyMaster['starting_storage_SOC_kWh'] + EnergyMaster['potential_grid_charge']).cumsum().clip(0,storage_size_kW * storage_hours)\n",
    "\n",
    "    #create customers load post storage\n",
    "EnergyMaster['customer_load_post_storage'] = (EnergyMaster['Customer_Load_Post_PV'] - EnergyMaster['starting_storage_SOC_kWh']).clip_lower(0)\n",
    "\n",
    "    #show discharged storage amount\n",
    "EnergyMaster['storage_discharge'] = EnergyMaster['Customer_Load_Post_PV'] - EnergyMaster['customer_load_post_storage']\n",
    "\n",
    "    #show charge storage amount\n",
    "EnergyMaster['storage_charge'] = EnergyMaster['finished_storage_SOC_kWh'] - EnergyMaster['starting_storage_SOC_kWh']\n",
    "\n",
    "    #show new customer load with storage charging\n",
    "#EnergyMaster['final_customer_load'] = \n",
    "    \n",
    "\n",
    "#Add solar LCOE\n",
    "EnergyMaster['solar_lcoe'] = solar_lcoe\n",
    "\n",
    "#Add diesel state of charge\n",
    "#EnergyMaster['Diesel_SOC'] = EnergyMaster['CustomerLoad'].cumsum().clip(0,diesel_size_kW)\n",
    "\n",
    "EnergyMaster.head(100)"
   ]
  },
  {
   "cell_type": "markdown",
   "metadata": {},
   "source": [
    "# Create Randomized Grid Outages"
   ]
  },
  {
   "cell_type": "code",
   "execution_count": null,
   "metadata": {
    "collapsed": true
   },
   "outputs": [],
   "source": [
    "#variables\n",
    "days_per_week_grid_down = 3\n",
    "hoursdown = 4\n",
    "percent_downtime = days_per_week_grid_down / (7.0*24/hoursdown)\n",
    "\n",
    "#calculations\n",
    "EnergyMaster['grid_down_probability'] = EnergyMaster['Customer_Load'].apply(lambda x: np.random.random())\n",
    "def grid_is_down(rand_num):\n",
    "    if rand_num < percent_downtime:\n",
    "        return 1\n",
    "    else:\n",
    "        return 0\n",
    "EnergyMaster['grid_down'] = EnergyMaster['grid_down_probability'].apply(grid_is_down)"
   ]
  },
  {
   "cell_type": "markdown",
   "metadata": {},
   "source": [
    "# Calculate Combined Price of Diesel Scenario\n",
    "\n",
    "Note: Storage-only scenario cost is the annual payment lease payment plus electricity price\n",
    "Note2: Storage and PV cost is the annual lease payment plus the cost of solar plus electricity price"
   ]
  },
  {
   "cell_type": "code",
   "execution_count": null,
   "metadata": {
    "collapsed": true
   },
   "outputs": [],
   "source": [
    "#diesel scenario\n",
    "\n",
    "EnergyMaster['cost_in_diesel'] = diesel_price\n",
    "EnergyMaster['diesel_scenario_price'] = EnergyMaster.loc[EnergyMaster['grid_down']<1,['electricity_price','cost_in_diesel']]\n",
    "EnergyMaster['diesel_scenario_price'].fillna(EnergyMaster['cost_in_diesel'],inplace=True)\n",
    "\n",
    "EnergyMaster.head(100)"
   ]
  },
  {
   "cell_type": "markdown",
   "metadata": {},
   "source": [
    "# Calculate Combined Price of Solar Scenario"
   ]
  },
  {
   "cell_type": "code",
   "execution_count": null,
   "metadata": {
    "collapsed": true
   },
   "outputs": [],
   "source": [
    "EnergyMaster['cost_in_solar'] = solar_lcoe\n",
    "EnergyMaster['solar_scenario_price'] = EnergyMaster.loc[EnergyMaster['grid_down']<1,['electricity_price','solar_lcoe']]\n",
    "EnergyMaster['solar_scenario_price'].fillna(EnergyMaster['solar_lcoe'],inplace=True)"
   ]
  },
  {
   "cell_type": "markdown",
   "metadata": {},
   "source": [
    "# Calculate Totals"
   ]
  },
  {
   "cell_type": "code",
   "execution_count": null,
   "metadata": {
    "collapsed": true
   },
   "outputs": [],
   "source": [
    "#sum by year\n",
    "EnergyMaster['timestamp_hour'] = pd.to_datetime(EnergyMaster['timestamp_hour'])\n",
    "EnergyMaster['year'] = EnergyMaster['timestamp_hour'].dt.year\n",
    "\n",
    "TotalSolarPrice = EnergyMaster.groupby(['year'])['solar_scenario_price'].sum()\n",
    "TotalDieselPrice = (EnergyMaster.groupby(['year'])['diesel_scenario_price'].sum() + (diesel_capex / diesel_years))\n",
    "TotalStoragePrice = (EnergyMaster.groupby(['year'])['solar_scenario_price'].sum() + storage_annual_payment)\n",
    "\n",
    "print()\n",
    "TotalStoragePrice"
   ]
  },
  {
   "cell_type": "markdown",
   "metadata": {},
   "source": [
    "# Calculate Throughput "
   ]
  },
  {
   "cell_type": "code",
   "execution_count": null,
   "metadata": {
    "collapsed": true
   },
   "outputs": [],
   "source": [
    "#storage change in charge\n",
    "\n",
    "#fix variables with new storage categories above\n",
    "\n",
    "#EnergyMaster['storage_change_charge'] = EnergyMaster['Storage_SOC'] - EnergyMaster['Storage_SOC_Post_Load']\n",
    "\n",
    "#storage_throughput = EnergyMaster.groupby(['year'])['storage_change_charge'].sum()\n",
    "#diesel_throughput = EnergyMaster.groupby(['year'])['grid_down'].sum()\n",
    "\n",
    "print()\n",
    "diesel_throughput"
   ]
  },
  {
   "cell_type": "markdown",
   "metadata": {},
   "source": [
    "# Optimization"
   ]
  },
  {
   "cell_type": "code",
   "execution_count": null,
   "metadata": {
    "collapsed": true
   },
   "outputs": [],
   "source": [
    "from scipy import optimize\n",
    "\n",
    "#variables we control:\n",
    "pv_cpw = [1.5,1.75,2,2.25,2.5,2.75,3,3.25,3.5,3.75,4]\n",
    "diesel_fuel_cost = range(1,4)"
   ]
  },
  {
   "cell_type": "code",
   "execution_count": null,
   "metadata": {
    "collapsed": true
   },
   "outputs": [],
   "source": [
    "# this creates a dataframe of all possible combinations of the variables above:\n",
    "\n",
    "from itertools import product\n",
    "costs_df = pd.DataFrame(list(product(pv_cpw,diesel_fuel_cost)), \n",
    "                     columns=['pv_cpw', 'diesel_fuel_cost'])\n",
    "costs_df.head()diesel = []\n",
    "storage = []\n",
    "\n",
    "# now, for everyone of those combinations of cpw and fuel costs \n",
    "#we will calculate the energy cost for diesel and the energy cost for storage\n",
    "\n",
    "for index, row in costs_df.iterrows():\n",
    "    \n",
    "    #these are the functions we ran above, but now doing them in a more structured fashion\n",
    "    df = EnergyMaster.groupby(EnergyMaster.index / row['hoursdown']).sum() \n",
    "    df['grid_down_probability'] = df['kWh'].apply(lambda x: np.random.random())\n",
    "    percent_downtime = row['daysdown'] / (7.0*24/row['hoursdown']) \n",
    "    df['grid_down'] = df['grid_down_probability'].apply(grid_is_down)\n",
    "    kwh_grid_down = (df['grid_down']*df['kWh']).sum() #this gives us the total kWh that the grid is down\n",
    "\n",
    "    \n",
    "    #these calculate the diesel cost in this scenario for every row in the dataframe and appends to a list\n",
    "    diesel_total_cost = (diesel_annual_payment + #lease costs\n",
    "                     kwh_grid_down*diesel_om_kwh + #operations and maintenance\n",
    "                     df['grid_down'].sum()*hoursdown*gallons_per_hour*row['costpergal']) #fuel\n",
    "    diesel.append(diesel_total_cost)\n",
    "        \n",
    "    #now the storage costs   \n",
    "    storage_total_cost = (storage_annual_payment + kwh_grid_down*storage_electricity_rate)\n",
    "    storage.append(storage_total_cost)\n",
    "    \n",
    "costs_df['dieselcost'] = diesel\n",
    "costs_df['storagecost'] = storage"
   ]
  },
  {
   "cell_type": "code",
   "execution_count": null,
   "metadata": {
    "collapsed": true
   },
   "outputs": [],
   "source": []
  }
 ],
 "metadata": {
  "kernelspec": {
   "display_name": "Python 3",
   "language": "python",
   "name": "python3"
  },
  "language_info": {
   "codemirror_mode": {
    "name": "ipython",
    "version": 3
   },
   "file_extension": ".py",
   "mimetype": "text/x-python",
   "name": "python",
   "nbconvert_exporter": "python",
   "pygments_lexer": "ipython3",
   "version": "3.6.1"
  }
 },
 "nbformat": 4,
 "nbformat_minor": 2
}
